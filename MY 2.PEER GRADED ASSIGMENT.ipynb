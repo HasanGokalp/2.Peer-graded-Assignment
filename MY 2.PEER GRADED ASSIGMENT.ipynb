{
 "cells": [
  {
   "cell_type": "markdown",
   "id": "bae08ad6",
   "metadata": {},
   "source": [
    "#                                       Data Science Tools and Ecosystem"
   ]
  },
  {
   "cell_type": "markdown",
   "id": "ad5ddc40",
   "metadata": {},
   "source": [
    "In this notebook, Data Science Tools and Ecosystem are summarized."
   ]
  },
  {
   "cell_type": "markdown",
   "id": "06e6c98a",
   "metadata": {},
   "source": [
    "Some of the popular languages that Data Scientists use are:\n",
    "1. Python\n",
    "2. R\n",
    "3. C++\n",
    "4. SCALA\n",
    "5. JAVA\n",
    "6. SQL\n",
    "7. JULIA"
   ]
  },
  {
   "cell_type": "markdown",
   "id": "c86c868d",
   "metadata": {},
   "source": [
    "Some of the commonly used libraries used by Data Scientists include:\n",
    "1. TensorFlow\n",
    "2. PyTorch\n",
    "3. Keras\n",
    "4. NumPy\n",
    "5. Pandas\n",
    "6. Caffe\n",
    "7. SciKit-Learn\n",
    "8. Matplotlib\n",
    "9. Ggplot2\n",
    "10. Plotly\n",
    "11. Spyder"
   ]
  },
  {
   "cell_type": "markdown",
   "id": "09e46f83",
   "metadata": {},
   "source": [
    "| Data science tools |\n",
    "| ------------------ |\n",
    "| MongoDB |\n",
    "| MySQL |\n",
    "| APACHE SPARK |\n",
    "| Cassandra |\n",
    "| Hadoop |\n",
    "| APACHE AirFlow |\n",
    "| Sheldon |\n",
    "| Kubernetes |"
   ]
  },
  {
   "cell_type": "markdown",
   "id": "d16a11be",
   "metadata": {},
   "source": [
    "### Below are a few examples of evaluating arithmetic expressions in Python"
   ]
  },
  {
   "cell_type": "markdown",
   "id": "ace71867",
   "metadata": {},
   "source": [
    "his a simple arithmetic expression to mutiply then add integers"
   ]
  },
  {
   "cell_type": "code",
   "execution_count": 1,
   "id": "db2f390c",
   "metadata": {},
   "outputs": [
    {
     "data": {
      "text/plain": [
       "17"
      ]
     },
     "execution_count": 1,
     "metadata": {},
     "output_type": "execute_result"
    }
   ],
   "source": [
    "(3*4)+5"
   ]
  },
  {
   "cell_type": "markdown",
   "id": "79c5711b",
   "metadata": {},
   "source": [
    "This will convert 200 minutes to hours by diving by 60"
   ]
  },
  {
   "cell_type": "code",
   "execution_count": 3,
   "id": "915dfb43",
   "metadata": {},
   "outputs": [
    {
     "data": {
      "text/plain": [
       "3.3333333333333335"
      ]
     },
     "execution_count": 3,
     "metadata": {},
     "output_type": "execute_result"
    }
   ],
   "source": [
    "200 / 60\n"
   ]
  },
  {
   "cell_type": "markdown",
   "id": "5cee5390",
   "metadata": {},
   "source": [
    "<b>Objectives : </b>\n",
    "<ul>\n",
    "    <li>Popular data science tools</li>\n",
    "    <li>Popular data science languages</li>\n",
    "    <li>Popular data science libraries</li>\n",
    "</ul>"
   ]
  },
  {
   "cell_type": "markdown",
   "id": "e58e52df",
   "metadata": {},
   "source": [
    "## Author\n",
    "Hasan Gökalp"
   ]
  }
 ],
 "metadata": {
  "kernelspec": {
   "display_name": "Python 3 (ipykernel)",
   "language": "python",
   "name": "python3"
  },
  "language_info": {
   "codemirror_mode": {
    "name": "ipython",
    "version": 3
   },
   "file_extension": ".py",
   "mimetype": "text/x-python",
   "name": "python",
   "nbconvert_exporter": "python",
   "pygments_lexer": "ipython3",
   "version": "3.10.6"
  }
 },
 "nbformat": 4,
 "nbformat_minor": 5
}
