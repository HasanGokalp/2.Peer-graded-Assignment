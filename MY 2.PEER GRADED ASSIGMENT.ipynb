{
 "cells": [
  {
   "cell_type": "markdown",
   "id": "bae08ad6",
   "metadata": {},
   "source": [
    "#                                       MY 2.PEER GRADED ASSIGMENT"
   ]
  },
  {
   "cell_type": "markdown",
   "id": "ad5ddc40",
   "metadata": {},
   "source": [
    "##                                             Introduction                                            "
   ]
  },
  {
   "cell_type": "markdown",
   "id": "06e6c98a",
   "metadata": {},
   "source": [
    "### Data science languages:\n",
    "1. Python\n",
    "2. R\n",
    "3. C++\n",
    "4. SCALA\n",
    "5. JAVA\n",
    "6. SQL\n",
    "7. JULIA"
   ]
  },
  {
   "cell_type": "markdown",
   "id": "c86c868d",
   "metadata": {},
   "source": [
    "### Data science libraries:\n",
    "1. TensorFlow\n",
    "2. PyTorch\n",
    "3. Keras\n",
    "4. NumPy\n",
    "5. Pandas\n",
    "6. Caffe\n",
    "7. SciKit-Learn\n",
    "8. Matplotlib\n",
    "9. Ggplot2\n",
    "10. Plotly\n",
    "11. Spyder"
   ]
  },
  {
   "cell_type": "markdown",
   "id": "09e46f83",
   "metadata": {},
   "source": [
    "| Data science tools |\n",
    "| ------------------ |\n",
    "| MongoDB |\n",
    "| MySQL |\n",
    "| APACHE SPARK |\n",
    "| Cassandra |\n",
    "| Hadoop |\n",
    "| APACHE AirFlow |\n",
    "| Sheldon |\n",
    "| Kubernetes |"
   ]
  },
  {
   "cell_type": "markdown",
   "id": "d16a11be",
   "metadata": {},
   "source": [
    "#### Arithmetic expression examples\n",
    "1. 5 + 4\n",
    "2. 2 - 1\n",
    "3. 2 * 2\n",
    "4. 7 % 1"
   ]
  },
  {
   "cell_type": "code",
   "execution_count": 3,
   "id": "cbfd0713",
   "metadata": {},
   "outputs": [
    {
     "name": "stdout",
     "output_type": "stream",
     "text": [
      "7\n"
     ]
    }
   ],
   "source": [
    "number1 = 1\n",
    "number2 = 5\n",
    "number3 = 2\n",
    "print(number1 * number2 + number3)"
   ]
  },
  {
   "cell_type": "code",
   "execution_count": 5,
   "id": "db2f390c",
   "metadata": {},
   "outputs": [
    {
     "name": "stdout",
     "output_type": "stream",
     "text": [
      "3:25:45\n"
     ]
    }
   ],
   "source": [
    "def convert(seconds):\n",
    "    seconds = seconds % (24 * 3600)\n",
    "    hour = seconds // 3600\n",
    "    seconds %= 3600\n",
    "    minutes = seconds // 60\n",
    "    seconds %= 60\n",
    "     \n",
    "    return \"%d:%02d:%02d\" % (hour, minutes, seconds)\n",
    "     \n",
    "n = 12345\n",
    "print(convert(n))"
   ]
  },
  {
   "cell_type": "markdown",
   "id": "79c5711b",
   "metadata": {},
   "source": [
    "<ul>\n",
    "<li>Fish</li>\n",
    "<li>Eggs</li>\n",
    "<li>Cheese</li>\n",
    "</ul>"
   ]
  },
  {
   "cell_type": "markdown",
   "id": "e58e52df",
   "metadata": {},
   "source": [
    "#### Author : Hasan Gökalp"
   ]
  }
 ],
 "metadata": {
  "kernelspec": {
   "display_name": "Python 3 (ipykernel)",
   "language": "python",
   "name": "python3"
  },
  "language_info": {
   "codemirror_mode": {
    "name": "ipython",
    "version": 3
   },
   "file_extension": ".py",
   "mimetype": "text/x-python",
   "name": "python",
   "nbconvert_exporter": "python",
   "pygments_lexer": "ipython3",
   "version": "3.10.6"
  }
 },
 "nbformat": 4,
 "nbformat_minor": 5
}
